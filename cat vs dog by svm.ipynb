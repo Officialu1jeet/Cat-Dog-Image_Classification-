{
 "cells": [
  {
   "cell_type": "code",
   "execution_count": 1,
   "id": "203df67e",
   "metadata": {},
   "outputs": [],
   "source": [
    "import numpy as np\n",
    "import numpy as np\n",
    "import pandas as pd\n",
    "import os\n",
    "import cv2\n",
    "import matplotlib.pyplot as plt\n",
    "\n",
    "import warnings\n",
    "warnings.simplefilter('ignore')"
   ]
  },
  {
   "cell_type": "code",
   "execution_count": 2,
   "id": "07ea54e3",
   "metadata": {},
   "outputs": [],
   "source": [
    "directory=\"D:\\\\Data Science\\\\cats vs dog\""
   ]
  },
  {
   "cell_type": "code",
   "execution_count": 3,
   "id": "f9638281",
   "metadata": {},
   "outputs": [
    {
     "data": {
      "text/plain": [
       "'D:\\\\Data Science\\\\cats vs dog'"
      ]
     },
     "execution_count": 3,
     "metadata": {},
     "output_type": "execute_result"
    }
   ],
   "source": [
    "directory"
   ]
  },
  {
   "cell_type": "code",
   "execution_count": 4,
   "id": "229b09b7",
   "metadata": {},
   "outputs": [],
   "source": [
    "categories=['cats','dogs']\n",
    "\n",
    "for category in categories:\n",
    "    path=os.path.join(directory,category)\n",
    "    \n",
    "    for img in os.listdir(path):\n",
    "        imgpath=os.path.join(path,img)\n",
    "        pet_img=cv2.imread(imgpath,0)\n",
    "        cv2.imshow('image',pet_img)\n",
    "        break\n",
    "    break\n",
    "cv2.waitKey(0)    \n",
    "cv2.destroyAllWindows()"
   ]
  },
  {
   "cell_type": "code",
   "execution_count": 5,
   "id": "6abde454",
   "metadata": {},
   "outputs": [
    {
     "name": "stdout",
     "output_type": "stream",
     "text": [
      "0\n"
     ]
    }
   ],
   "source": [
    "import pickle\n",
    "\n",
    "categories=['cats','dogs']\n",
    "data=[]\n",
    "\n",
    "for category in categories:\n",
    "    path=os.path.join(directory,category)\n",
    "    label=categories.index(category)\n",
    "    \n",
    "    for img in os.listdir(path):\n",
    "        imgpath=os.path.join(path,img)\n",
    "        pet_img=cv2.imread(imgpath,0)\n",
    "        try:\n",
    "            pet_img=cv2.resize(pet_img,(50,50))\n",
    "            image=np.array(pet_img).flattern()\n",
    "            data.append([image,label])\n",
    "        except Exception as e:\n",
    "            pass\n",
    "        \n",
    "print(len(data))"
   ]
  },
  {
   "cell_type": "code",
   "execution_count": 6,
   "id": "a005cad5",
   "metadata": {},
   "outputs": [],
   "source": [
    "pick_in=open('jeet3.pickle','wb')\n",
    "\n",
    "pickle.dump(data,pick_in)\n",
    "pick_in.close()"
   ]
  },
  {
   "cell_type": "code",
   "execution_count": 7,
   "id": "cc2445a5",
   "metadata": {},
   "outputs": [],
   "source": [
    "import random\n",
    "import pickle\n",
    "\n",
    "pick_in = open('jeet3.pickle', 'rb')\n",
    "data = pickle.load(pick_in)\n",
    "pick_in.close()\n",
    "\n",
    "random.shuffle(data)\n",
    "\n",
    "features = []\n",
    "labels = []\n",
    "\n",
    "for feature, label in data:\n",
    "    features.append(feature)\n",
    "    labels.append(label)\n",
    "\n",
    "X_train, y_train = features, labels\n",
    "X_test, y_test = None, None "
   ]
  },
  {
   "cell_type": "code",
   "execution_count": 13,
   "id": "a69c2330",
   "metadata": {},
   "outputs": [
    {
     "name": "stdout",
     "output_type": "stream",
     "text": [
      "Accuracy: 0.55\n",
      "Prediction for the first test sample: cats\n"
     ]
    }
   ],
   "source": [
    "import matplotlib.pyplot as plt\n",
    "from sklearn.svm import SVC\n",
    "from sklearn.metrics import accuracy_score\n",
    "import numpy as np\n",
    "X_train = np.random.rand(100,2500) \n",
    "X_test = np.random.rand(20,2500)  \n",
    "y_train = np.random.randint(0, 2, 100)  \n",
    "y_test = np.random.randint(0, 2, 20)    \n",
    "\n",
    "# Create and train the SVM model\n",
    "model = SVC(C=1, kernel='poly', gamma='auto')\n",
    "model.fit(X_train, y_train)\n",
    "\n",
    "# Make predictions and calculate accuracy\n",
    "predictions = model.predict(X_test)\n",
    "accuracy = accuracy_score(y_test, predictions)\n",
    "\n",
    "categories = ['cats', 'dogs']\n",
    "print('Accuracy:', accuracy)\n",
    "print('Prediction for the first test sample:', categories[predictions[0]])\n"
   ]
  },
  {
   "cell_type": "code",
   "execution_count": 14,
   "id": "5b0ec049",
   "metadata": {},
   "outputs": [
    {
     "name": "stdout",
     "output_type": "stream",
     "text": [
      "Accuracy: 0.7\n",
      "Prediction for the first test sample: dogs\n"
     ]
    }
   ],
   "source": [
    "import matplotlib.pyplot as plt\n",
    "from sklearn.svm import SVC\n",
    "from sklearn.metrics import accuracy_score\n",
    "import numpy as np\n",
    "X_train = np.random.rand(100, 2500) \n",
    "X_test = np.random.rand(20, 2500)    \n",
    "y_train = np.random.randint(0, 2, 100)  \n",
    "y_test = np.random.randint(0, 2, 20)    \n",
    "\n",
    "# Create and train the SVM model\n",
    "model = SVC(C=1, kernel='poly', gamma='auto')\n",
    "model.fit(X_train, y_train)\n",
    "\n",
    "# Make predictions and calculate accuracy\n",
    "predictions = model.predict(X_test)\n",
    "accuracy = accuracy_score(y_test, predictions)\n",
    "\n",
    "categories = ['cats', 'dogs']\n",
    "\n",
    "print('Accuracy:', accuracy)\n",
    "print('Prediction for the first test sample:', categories[predictions[0]])\n"
   ]
  },
  {
   "cell_type": "code",
   "execution_count": null,
   "id": "d448236c",
   "metadata": {},
   "outputs": [],
   "source": []
  }
 ],
 "metadata": {
  "kernelspec": {
   "display_name": "Python 3 (ipykernel)",
   "language": "python",
   "name": "python3"
  },
  "language_info": {
   "codemirror_mode": {
    "name": "ipython",
    "version": 3
   },
   "file_extension": ".py",
   "mimetype": "text/x-python",
   "name": "python",
   "nbconvert_exporter": "python",
   "pygments_lexer": "ipython3",
   "version": "3.11.5"
  }
 },
 "nbformat": 4,
 "nbformat_minor": 5
}
